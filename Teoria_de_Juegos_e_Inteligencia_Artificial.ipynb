{
  "nbformat": 4,
  "nbformat_minor": 0,
  "metadata": {
    "colab": {
      "provenance": [],
      "include_colab_link": true
    },
    "kernelspec": {
      "name": "python3",
      "display_name": "Python 3"
    },
    "language_info": {
      "name": "python"
    }
  },
  "cells": [
    {
      "cell_type": "markdown",
      "metadata": {
        "id": "view-in-github",
        "colab_type": "text"
      },
      "source": [
        "<a href=\"https://colab.research.google.com/github/Molter73/ai-class/blob/main/Teoria_de_Juegos_e_Inteligencia_Artificial.ipynb\" target=\"_parent\"><img src=\"https://colab.research.google.com/assets/colab-badge.svg\" alt=\"Open In Colab\"/></a>"
      ]
    },
    {
      "cell_type": "code",
      "metadata": {
        "colab": {
          "base_uri": "https://localhost:8080/"
        },
        "id": "O_o70unS2OCI",
        "outputId": "df0447b8-1713-40f1-c434-57fa06dba6fe"
      },
      "source": [
        "!pip install nashpy"
      ],
      "execution_count": 1,
      "outputs": [
        {
          "output_type": "stream",
          "name": "stdout",
          "text": [
            "Collecting nashpy\n",
            "  Downloading nashpy-0.0.40-py3-none-any.whl (27 kB)\n",
            "Requirement already satisfied: numpy>=1.21.0 in /usr/local/lib/python3.10/dist-packages (from nashpy) (1.23.5)\n",
            "Requirement already satisfied: scipy>=0.19.0 in /usr/local/lib/python3.10/dist-packages (from nashpy) (1.11.4)\n",
            "Requirement already satisfied: networkx>=3.0.0 in /usr/local/lib/python3.10/dist-packages (from nashpy) (3.2.1)\n",
            "Collecting deprecated>=1.2.14 (from nashpy)\n",
            "  Downloading Deprecated-1.2.14-py2.py3-none-any.whl (9.6 kB)\n",
            "Requirement already satisfied: wrapt<2,>=1.10 in /usr/local/lib/python3.10/dist-packages (from deprecated>=1.2.14->nashpy) (1.14.1)\n",
            "Installing collected packages: deprecated, nashpy\n",
            "Successfully installed deprecated-1.2.14 nashpy-0.0.40\n"
          ]
        }
      ]
    },
    {
      "cell_type": "code",
      "metadata": {
        "id": "uL1KhvnQ2UeA"
      },
      "source": [
        "import nashpy as nash\n",
        "import numpy as np"
      ],
      "execution_count": 2,
      "outputs": []
    },
    {
      "cell_type": "markdown",
      "metadata": {
        "id": "67fjZcxD8tWX"
      },
      "source": [
        "Definimos las matrices de recompensas:"
      ]
    },
    {
      "cell_type": "code",
      "metadata": {
        "colab": {
          "base_uri": "https://localhost:8080/"
        },
        "id": "nU5fEXvb2B-m",
        "outputId": "7d877392-cb0d-4619-b6a9-476bae373b8e"
      },
      "source": [
        "A = np.array([[-8, 0], [-10, -1]]) # A es el jugador filas.\n",
        "B = np.array([[-8, -10], [0, -1]]) # B es el jugador columnas.\n",
        "juego1 = nash.Game(A,B)\n",
        "juego1"
      ],
      "execution_count": 3,
      "outputs": [
        {
          "output_type": "execute_result",
          "data": {
            "text/plain": [
              "Bi matrix game with payoff matrices:\n",
              "\n",
              "Row player:\n",
              "[[ -8   0]\n",
              " [-10  -1]]\n",
              "\n",
              "Column player:\n",
              "[[ -8 -10]\n",
              " [  0  -1]]"
            ]
          },
          "metadata": {},
          "execution_count": 3
        }
      ]
    },
    {
      "cell_type": "markdown",
      "metadata": {
        "id": "Rf-mr2AU8xHa"
      },
      "source": [
        "Encontramos las estrategias de Equilibrio:"
      ]
    },
    {
      "cell_type": "code",
      "metadata": {
        "colab": {
          "base_uri": "https://localhost:8080/"
        },
        "id": "iSX4Gayf2dnd",
        "outputId": "0f566e87-3cab-4e14-e362-1b141fcc4876"
      },
      "source": [
        "equilibrios = juego1.support_enumeration()\n",
        "for eq in equilibrios:\n",
        "    print(eq)"
      ],
      "execution_count": 4,
      "outputs": [
        {
          "output_type": "stream",
          "name": "stdout",
          "text": [
            "(array([1., 0.]), array([1., 0.]))\n"
          ]
        }
      ]
    },
    {
      "cell_type": "markdown",
      "metadata": {
        "id": "VxvFG9Xn-Mte"
      },
      "source": [
        "De manera similar, para un juego mas complejo con estrategias dominantes:"
      ]
    },
    {
      "cell_type": "code",
      "metadata": {
        "colab": {
          "base_uri": "https://localhost:8080/"
        },
        "id": "x7D5FL1e2nln",
        "outputId": "77f1404e-6452-4567-c9d7-70691c6478cb"
      },
      "source": [
        "A2 = np.array([[6, 4, 4, 3],\n",
        "               [5, 6, 0, 5],\n",
        "               [5, 3, 6, 4],\n",
        "               [2, 2, 3, 6]]) # A es el jugador filas.\n",
        "\n",
        "B2 = np.array([[3, 4, 1, 0],\n",
        "               [4, 3, 2, 1],\n",
        "               [0, 2, 1, 4],\n",
        "               [0, 3, 3, 1]]) # B es el jugador columnas.\n",
        "juego2 = nash.Game(A2, B2)\n",
        "juego2"
      ],
      "execution_count": 5,
      "outputs": [
        {
          "output_type": "execute_result",
          "data": {
            "text/plain": [
              "Bi matrix game with payoff matrices:\n",
              "\n",
              "Row player:\n",
              "[[6 4 4 3]\n",
              " [5 6 0 5]\n",
              " [5 3 6 4]\n",
              " [2 2 3 6]]\n",
              "\n",
              "Column player:\n",
              "[[3 4 1 0]\n",
              " [4 3 2 1]\n",
              " [0 2 1 4]\n",
              " [0 3 3 1]]"
            ]
          },
          "metadata": {},
          "execution_count": 5
        }
      ]
    },
    {
      "cell_type": "markdown",
      "metadata": {
        "id": "efdkbSf8-RK6"
      },
      "source": [
        "Las estrategias resultantes son aquellas que no son dominadas:"
      ]
    },
    {
      "cell_type": "code",
      "metadata": {
        "colab": {
          "base_uri": "https://localhost:8080/"
        },
        "id": "PTNTe5kH98Pj",
        "outputId": "100ea994-da67-4cac-da3f-94c8ea7c2609"
      },
      "source": [
        "equilibrios = juego2.support_enumeration()\n",
        "for eq in equilibrios:\n",
        "    print(eq)"
      ],
      "execution_count": 6,
      "outputs": [
        {
          "output_type": "stream",
          "name": "stdout",
          "text": [
            "(array([0.5, 0.5, 0. , 0. ]), array([0.66666667, 0.33333333, 0.        , 0.        ]))\n"
          ]
        }
      ]
    },
    {
      "cell_type": "markdown",
      "metadata": {
        "id": "8uG0MTntCovf"
      },
      "source": [
        "# Minimax para 3 en Raya"
      ]
    },
    {
      "cell_type": "code",
      "metadata": {
        "id": "_apVivwXCqa_"
      },
      "source": [
        "import time\n",
        "\n",
        "class Juego:\n",
        "    def __init__(self):\n",
        "        self.iniciar_juego()\n",
        "\n",
        "    def iniciar_juego(self):\n",
        "        self.estado_actual = [['.','.','.'],\n",
        "                              ['.','.','.'],\n",
        "                              ['.','.','.']]\n",
        "\n",
        "        # X siempre juega primero:\n",
        "        self.turno_jugador = 'X'\n",
        "\n",
        "    def dibujar_tablero(self):\n",
        "        for i in range(0, 3):\n",
        "            for j in range(0, 3):\n",
        "                print('{}|'.format(self.estado_actual[i][j]), end=\" \")\n",
        "            print()\n",
        "        print()\n",
        "\n",
        "    def es_valido(self, px, py):\n",
        "      if px < 0 or px > 2 or py < 0 or py > 2:\n",
        "          return False\n",
        "      elif self.estado_actual[px][py] != '.':\n",
        "          return False\n",
        "      else:\n",
        "          return True\n",
        "\n",
        "    def es_fin(self):\n",
        "      # Victoria en vertical:\n",
        "      for i in range(0, 3):\n",
        "          if (self.estado_actual[0][i] != '.' and\n",
        "              self.estado_actual[0][i] == self.estado_actual[1][i] and\n",
        "              self.estado_actual[1][i] == self.estado_actual[2][i]):\n",
        "              return self.estado_actual[0][i]\n",
        "\n",
        "      # Victoria en Horizontal:\n",
        "      for i in range(0, 3):\n",
        "          if (self.estado_actual[i] == ['X', 'X', 'X']):\n",
        "              return 'X'\n",
        "          elif (self.estado_actual[i] == ['O', 'O', 'O']):\n",
        "              return 'O'\n",
        "\n",
        "      # Victoria diagonal principal:\n",
        "      if (self.estado_actual[0][0] != '.' and\n",
        "          self.estado_actual[0][0] == self.estado_actual[1][1] and\n",
        "          self.estado_actual[0][0] == self.estado_actual[2][2]):\n",
        "          return self.estado_actual[0][0]\n",
        "\n",
        "      # Victoria diagonal secundaria:\n",
        "      if (self.estado_actual[0][2] != '.' and\n",
        "          self.estado_actual[0][2] == self.estado_actual[1][1] and\n",
        "          self.estado_actual[0][2] == self.estado_actual[2][0]):\n",
        "          return self.estado_actual[0][2]\n",
        "\n",
        "      # Mesa llena:\n",
        "      for i in range(0, 3):\n",
        "          for j in range(0, 3):\n",
        "              # Si hay espacio, seguimos jugando:\n",
        "              if (self.estado_actual[i][j] == '.'):\n",
        "                  return None\n",
        "\n",
        "      # Empate, mesa llena sin victoria:\n",
        "      return '.'\n",
        "\n",
        "    # 'O' es max, en este caso la IA:\n",
        "    def max(self):\n",
        "\n",
        "        # Posibles valores para max:\n",
        "        # -1 - pierde\n",
        "        #  0 - empata\n",
        "        #  1 - gana\n",
        "\n",
        "        # Inicializamos el resultado a -2, peor que lo peor\n",
        "        maxv = -2\n",
        "\n",
        "        px = None\n",
        "        py = None\n",
        "\n",
        "        resultado = self.es_fin()\n",
        "\n",
        "        # Si el juego acaba, debemos devolver el resultado:\n",
        "        if resultado == 'X':\n",
        "            return (-1, 0, 0)\n",
        "        elif resultado == 'O':\n",
        "            return (1, 0, 0)\n",
        "        elif resultado == '.':\n",
        "            return (0, 0, 0)\n",
        "\n",
        "        for i in range(0, 3):\n",
        "            for j in range(0, 3):\n",
        "                if self.estado_actual[i][j] == '.':\n",
        "                    # Esto es una rama del juego:\n",
        "                    self.estado_actual[i][j] = 'O'\n",
        "                    (m, min_i, min_j) = self.min()\n",
        "                    # Fijamos maxv si es necesario:\n",
        "                    if m > maxv:\n",
        "                        maxv = m\n",
        "                        px = i\n",
        "                        py = j\n",
        "                    # Vaciamos el tablero\n",
        "                    self.estado_actual[i][j] = '.'\n",
        "        return (maxv, px, py)\n",
        "\n",
        "    # El jugador 'X' es min, un humano en este caso:\n",
        "    def min(self):\n",
        "\n",
        "        #Inicio igual que para max:\n",
        "        minv = 2\n",
        "\n",
        "        qx = None\n",
        "        qy = None\n",
        "\n",
        "        resultado = self.es_fin()\n",
        "\n",
        "        if resultado == 'X':\n",
        "            return (-1, 0, 0)\n",
        "        elif resultado == 'O':\n",
        "            return (1, 0, 0)\n",
        "        elif resultado == '.':\n",
        "            return (0, 0, 0)\n",
        "\n",
        "        for i in range(0, 3):\n",
        "            for j in range(0, 3):\n",
        "                if self.estado_actual[i][j] == '.':\n",
        "                    self.estado_actual[i][j] = 'X'\n",
        "                    (m, max_i, max_j) = self.max()\n",
        "                    if m < minv:\n",
        "                        minv = m\n",
        "                        qx = i\n",
        "                        qy = j\n",
        "                    self.estado_actual[i][j] = '.'\n",
        "\n",
        "        return (minv, qx, qy)\n",
        "\n",
        "    def jugar(self):\n",
        "      while True:\n",
        "          self.dibujar_tablero()\n",
        "          self.resultado = self.es_fin()\n",
        "\n",
        "          # Mostrar que el juego termino:\n",
        "          if self.resultado != None:\n",
        "              if self.resultado == 'X':\n",
        "                  print('El ganador es X!')\n",
        "              elif self.resultado == 'O':\n",
        "                  print('El ganador es O!')\n",
        "              elif self.resultado == '.':\n",
        "                  print(\"Empate!\")\n",
        "\n",
        "              self.iniciar_juego()\n",
        "              return\n",
        "\n",
        "          # If it's player's turn\n",
        "          if self.turno_jugador == 'X':\n",
        "\n",
        "              while True:\n",
        "\n",
        "                  inicio = time.time()\n",
        "                  (m, qx, qy) = self.min()\n",
        "                  fin = time.time()\n",
        "                  print('Evaluacion: {}s'.format(round(fin - inicio, 7)))\n",
        "                  print('Movimientos Recomendados: X = {}, Y = {}'.format(qx, qy))\n",
        "\n",
        "                  px = int(input('X coordenada: '))\n",
        "                  py = int(input('Y coordenada: '))\n",
        "\n",
        "                  (qx, qy) = (px, py)\n",
        "\n",
        "                  if self.es_valido(px, py):\n",
        "                      self.estado_actual[px][py] = 'X'\n",
        "                      self.turno_jugador = 'O'\n",
        "                      break\n",
        "                  else:\n",
        "                      print('Movimiento no valido, prueba otra vez.')\n",
        "\n",
        "          # Turno de la IA\n",
        "          else:\n",
        "              (m, px, py) = self.max()\n",
        "              self.estado_actual[px][py] = 'O'\n",
        "              self.turno_jugador = 'X'"
      ],
      "execution_count": 7,
      "outputs": []
    },
    {
      "cell_type": "code",
      "metadata": {
        "colab": {
          "base_uri": "https://localhost:8080/"
        },
        "id": "HMm8sCeDDDVi",
        "outputId": "5cd9a610-3b4c-439a-b9d1-f0b677ed22bf"
      },
      "source": [
        "g = Juego()\n",
        "g.jugar()"
      ],
      "execution_count": 8,
      "outputs": [
        {
          "output_type": "stream",
          "name": "stdout",
          "text": [
            ".| .| .| \n",
            ".| .| .| \n",
            ".| .| .| \n",
            "\n",
            "Evaluacion: 2.6386213s\n",
            "Movimientos Recomendados: X = 0, Y = 0\n",
            "X coordenada: 0\n",
            "Y coordenada: 0\n",
            "X| .| .| \n",
            ".| .| .| \n",
            ".| .| .| \n",
            "\n",
            "X| .| .| \n",
            ".| O| .| \n",
            ".| .| .| \n",
            "\n",
            "Evaluacion: 0.0602102s\n",
            "Movimientos Recomendados: X = 0, Y = 1\n",
            "X coordenada: 0\n",
            "Y coordenada: 1\n",
            "X| X| .| \n",
            ".| O| .| \n",
            ".| .| .| \n",
            "\n",
            "X| X| O| \n",
            ".| O| .| \n",
            ".| .| .| \n",
            "\n",
            "Evaluacion: 0.0015152s\n",
            "Movimientos Recomendados: X = 2, Y = 0\n",
            "X coordenada: 2\n",
            "Y coordenada: 0\n",
            "X| X| O| \n",
            ".| O| .| \n",
            "X| .| .| \n",
            "\n",
            "X| X| O| \n",
            "O| O| .| \n",
            "X| .| .| \n",
            "\n",
            "Evaluacion: 9.51e-05s\n",
            "Movimientos Recomendados: X = 1, Y = 2\n",
            "X coordenada: 1\n",
            "Y coordenada: 2\n",
            "X| X| O| \n",
            "O| O| X| \n",
            "X| .| .| \n",
            "\n",
            "X| X| O| \n",
            "O| O| X| \n",
            "X| O| .| \n",
            "\n",
            "Evaluacion: 2.12e-05s\n",
            "Movimientos Recomendados: X = 2, Y = 2\n",
            "X coordenada: 2\n",
            "Y coordenada: 2\n",
            "X| X| O| \n",
            "O| O| X| \n",
            "X| O| X| \n",
            "\n",
            "Empate!\n"
          ]
        }
      ]
    },
    {
      "cell_type": "markdown",
      "metadata": {
        "id": "4c2dgySdN68q"
      },
      "source": [
        "1# Ejercicio: ¿Puedes modificar las funciones min y max para podar las ramas innecesarias? El bloque siguiente contiene el código modificado.\n",
        "\n",
        "¿Que le pasa al tiempo de procesamiento de la busqueda de la IA? El tiempo de evaluación se reduce, ya que la cantidad de ramas que debe recorrer son menos."
      ]
    },
    {
      "cell_type": "code",
      "metadata": {
        "id": "bfPxUStCEKtv"
      },
      "source": [
        "import time\n",
        "\n",
        "class Juego:\n",
        "    def __init__(self):\n",
        "        self.iniciar_juego()\n",
        "\n",
        "    def iniciar_juego(self):\n",
        "        self.estado_actual = [['.','.','.'],\n",
        "                              ['.','.','.'],\n",
        "                              ['.','.','.']]\n",
        "\n",
        "        # X siempre juega primero:\n",
        "        self.turno_jugador = 'X'\n",
        "\n",
        "    def dibujar_tablero(self):\n",
        "        for i in range(0, 3):\n",
        "            for j in range(0, 3):\n",
        "                print('{}|'.format(self.estado_actual[i][j]), end=\" \")\n",
        "            print()\n",
        "        print()\n",
        "\n",
        "    def es_valido(self, px, py):\n",
        "      if px < 0 or px > 2 or py < 0 or py > 2:\n",
        "          return False\n",
        "      elif self.estado_actual[px][py] != '.':\n",
        "          return False\n",
        "      else:\n",
        "          return True\n",
        "\n",
        "    def es_fin(self):\n",
        "      # Victoria en vertical:\n",
        "      for i in range(0, 3):\n",
        "          if (self.estado_actual[0][i] != '.' and\n",
        "              self.estado_actual[0][i] == self.estado_actual[1][i] and\n",
        "              self.estado_actual[1][i] == self.estado_actual[2][i]):\n",
        "              return self.estado_actual[0][i]\n",
        "\n",
        "      # Victoria en Horizontal:\n",
        "      for i in range(0, 3):\n",
        "          if (self.estado_actual[i] == ['X', 'X', 'X']):\n",
        "              return 'X'\n",
        "          elif (self.estado_actual[i] == ['O', 'O', 'O']):\n",
        "              return 'O'\n",
        "\n",
        "      # Victoria diagonal principal:\n",
        "      if (self.estado_actual[0][0] != '.' and\n",
        "          self.estado_actual[0][0] == self.estado_actual[1][1] and\n",
        "          self.estado_actual[0][0] == self.estado_actual[2][2]):\n",
        "          return self.estado_actual[0][0]\n",
        "\n",
        "      # Victoria diagonal secundaria:\n",
        "      if (self.estado_actual[0][2] != '.' and\n",
        "          self.estado_actual[0][2] == self.estado_actual[1][1] and\n",
        "          self.estado_actual[0][2] == self.estado_actual[2][0]):\n",
        "          return self.estado_actual[0][2]\n",
        "\n",
        "      # Mesa llena:\n",
        "      for i in range(0, 3):\n",
        "          for j in range(0, 3):\n",
        "              # Si hay espacio, seguimos jugando:\n",
        "              if (self.estado_actual[i][j] == '.'):\n",
        "                  return None\n",
        "\n",
        "      # Empate, mesa llena sin victoria:\n",
        "      return '.'\n",
        "\n",
        "    # 'O' es max, en este caso la IA:\n",
        "    def max(self, alpha, beta):\n",
        "        maxv = -2\n",
        "        px = None\n",
        "        py = None\n",
        "\n",
        "        resultado = self.es_fin()\n",
        "\n",
        "        if resultado == 'X':\n",
        "            return (-1, 0, 0)\n",
        "        elif resultado == 'O':\n",
        "            return (1, 0, 0)\n",
        "        elif resultado == '.':\n",
        "            return (0, 0, 0)\n",
        "\n",
        "        for i in range(0, 3):\n",
        "            for j in range(0, 3):\n",
        "                if self.estado_actual[i][j] == '.':\n",
        "                    self.estado_actual[i][j] = 'O'\n",
        "                    (m, _, _) = self.min(alpha, beta)\n",
        "                    if m > maxv:\n",
        "                        maxv = m\n",
        "                        px = i\n",
        "                        py = j\n",
        "                    self.estado_actual[i][j] = '.'\n",
        "\n",
        "\n",
        "                    if maxv >= beta:\n",
        "                        return (maxv, px, py)\n",
        "\n",
        "                    if maxv > alpha:\n",
        "                        alpha = maxv\n",
        "\n",
        "        return (maxv, px, py)\n",
        "\n",
        "    # El jugador 'X' es min, un humano en este caso:\n",
        "    def min(self, alpha, beta):\n",
        "        minv = 2\n",
        "        qx = None\n",
        "        qy = None\n",
        "\n",
        "        resultado = self.es_fin()\n",
        "\n",
        "        if resultado == 'X':\n",
        "            return (-1, 0, 0)\n",
        "        elif resultado == 'O':\n",
        "            return (1, 0, 0)\n",
        "        elif resultado == '.':\n",
        "            return (0, 0, 0)\n",
        "\n",
        "        for i in range(0, 3):\n",
        "            for j in range(0, 3):\n",
        "                if self.estado_actual[i][j] == '.':\n",
        "                    self.estado_actual[i][j] = 'X'\n",
        "                    (m, _, _) = self.max(alpha, beta)\n",
        "                    if m < minv:\n",
        "                        minv = m\n",
        "                        qx = i\n",
        "                        qy = j\n",
        "                    self.estado_actual[i][j] = '.'\n",
        "\n",
        "                    if minv <= alpha:\n",
        "                        return (minv, qx, qy)\n",
        "\n",
        "                    if minv < beta:\n",
        "                        beta = minv\n",
        "\n",
        "        return (minv, qx, qy)\n",
        "\n",
        "    def jugar(self):\n",
        "     while True:\n",
        "        self.dibujar_tablero()\n",
        "        self.resultado = self.es_fin()\n",
        "\n",
        "        if self.resultado != None:\n",
        "            if self.resultado == 'X':\n",
        "                print('Gana X!')\n",
        "            elif self.resultado == 'O':\n",
        "                print('Gana O!')\n",
        "            elif self.resultado == '.':\n",
        "                print(\"Empate\")\n",
        "\n",
        "\n",
        "            self.iniciar_juego()\n",
        "            return\n",
        "\n",
        "        if self.turno_jugador == 'X':\n",
        "\n",
        "            while True:\n",
        "                inicio = time.time()\n",
        "                (m, qx, qy) = self.min(-2, 2)\n",
        "                fin = time.time()\n",
        "                print('Tiempo de evaluacion: {}s'.format(round(fin - inicio, 7)))\n",
        "                print('Movimiento recomendado: X = {}, Y = {}'.format(qx, qy))\n",
        "\n",
        "                px = int(input('X coordenada: '))\n",
        "                py = int(input('Y coordenada: '))\n",
        "\n",
        "                qx = px\n",
        "                qy = py\n",
        "\n",
        "                if self.es_valido(px, py):\n",
        "                    self.estado_actual[px][py] = 'X'\n",
        "                    self.turno_jugador = 'O'\n",
        "                    break\n",
        "                else:\n",
        "                    print('Movimiento no valido. Prueba con otro movimiento.')\n",
        "\n",
        "        else:\n",
        "            (m, px, py) = self.max(-2, 2)\n",
        "            self.estado_actual[px][py] = 'O'\n",
        "            self.turno_jugador = 'X'"
      ],
      "execution_count": 9,
      "outputs": []
    },
    {
      "cell_type": "code",
      "source": [
        "g = Juego()\n",
        "g.jugar()"
      ],
      "metadata": {
        "id": "37gKiP91Ftko",
        "outputId": "68c58fca-de32-415d-bada-b2c8bb3a2ed0",
        "colab": {
          "base_uri": "https://localhost:8080/"
        }
      },
      "execution_count": 10,
      "outputs": [
        {
          "output_type": "stream",
          "name": "stdout",
          "text": [
            ".| .| .| \n",
            ".| .| .| \n",
            ".| .| .| \n",
            "\n",
            "Tiempo de evaluacion: 0.0907271s\n",
            "Movimiento recomendado: X = 0, Y = 0\n",
            "X coordenada: 0\n",
            "Y coordenada: 0\n",
            "X| .| .| \n",
            ".| .| .| \n",
            ".| .| .| \n",
            "\n",
            "X| .| .| \n",
            ".| O| .| \n",
            ".| .| .| \n",
            "\n",
            "Tiempo de evaluacion: 0.0089333s\n",
            "Movimiento recomendado: X = 0, Y = 1\n",
            "X coordenada: 0\n",
            "Y coordenada: 1\n",
            "X| X| .| \n",
            ".| O| .| \n",
            ".| .| .| \n",
            "\n",
            "X| X| O| \n",
            ".| O| .| \n",
            ".| .| .| \n",
            "\n",
            "Tiempo de evaluacion: 0.0002811s\n",
            "Movimiento recomendado: X = 2, Y = 0\n",
            "X coordenada: 2\n",
            "Y coordenada: 0\n",
            "X| X| O| \n",
            ".| O| .| \n",
            "X| .| .| \n",
            "\n",
            "X| X| O| \n",
            "O| O| .| \n",
            "X| .| .| \n",
            "\n",
            "Tiempo de evaluacion: 9.85e-05s\n",
            "Movimiento recomendado: X = 1, Y = 2\n",
            "X coordenada: 1\n",
            "Y coordenada: 2\n",
            "X| X| O| \n",
            "O| O| X| \n",
            "X| .| .| \n",
            "\n",
            "X| X| O| \n",
            "O| O| X| \n",
            "X| O| .| \n",
            "\n",
            "Tiempo de evaluacion: 2.26e-05s\n",
            "Movimiento recomendado: X = 2, Y = 2\n",
            "X coordenada: 2\n",
            "Y coordenada: 2\n",
            "X| X| O| \n",
            "O| O| X| \n",
            "X| O| X| \n",
            "\n",
            "Empate\n"
          ]
        }
      ]
    },
    {
      "cell_type": "code",
      "source": [],
      "metadata": {
        "id": "28Ep1ABmpqqs"
      },
      "execution_count": 10,
      "outputs": []
    }
  ]
}