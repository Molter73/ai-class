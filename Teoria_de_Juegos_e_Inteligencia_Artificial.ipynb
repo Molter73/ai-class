{
  "nbformat": 4,
  "nbformat_minor": 0,
  "metadata": {
    "colab": {
      "provenance": [],
      "include_colab_link": true
    },
    "kernelspec": {
      "name": "python3",
      "display_name": "Python 3"
    },
    "language_info": {
      "name": "python"
    }
  },
  "cells": [
    {
      "cell_type": "markdown",
      "metadata": {
        "id": "view-in-github",
        "colab_type": "text"
      },
      "source": [
        "<a href=\"https://colab.research.google.com/github/Molter73/ai-class/blob/main/Teoria_de_Juegos_e_Inteligencia_Artificial.ipynb\" target=\"_parent\"><img src=\"https://colab.research.google.com/assets/colab-badge.svg\" alt=\"Open In Colab\"/></a>"
      ]
    },
    {
      "cell_type": "code",
      "metadata": {
        "colab": {
          "base_uri": "https://localhost:8080/"
        },
        "id": "O_o70unS2OCI",
        "outputId": "c5b1bb5a-12cb-43c7-910f-16cbf9adf3e3"
      },
      "source": [
        "!pip install nashpy"
      ],
      "execution_count": 3,
      "outputs": [
        {
          "output_type": "stream",
          "name": "stdout",
          "text": [
            "Requirement already satisfied: nashpy in /usr/local/lib/python3.10/dist-packages (0.0.40)\n",
            "Requirement already satisfied: numpy>=1.21.0 in /usr/local/lib/python3.10/dist-packages (from nashpy) (1.23.5)\n",
            "Requirement already satisfied: scipy>=0.19.0 in /usr/local/lib/python3.10/dist-packages (from nashpy) (1.11.3)\n",
            "Requirement already satisfied: networkx>=3.0.0 in /usr/local/lib/python3.10/dist-packages (from nashpy) (3.2.1)\n",
            "Requirement already satisfied: deprecated>=1.2.14 in /usr/local/lib/python3.10/dist-packages (from nashpy) (1.2.14)\n",
            "Requirement already satisfied: wrapt<2,>=1.10 in /usr/local/lib/python3.10/dist-packages (from deprecated>=1.2.14->nashpy) (1.14.1)\n"
          ]
        }
      ]
    },
    {
      "cell_type": "code",
      "metadata": {
        "id": "uL1KhvnQ2UeA"
      },
      "source": [
        "import nashpy as nash\n",
        "import numpy as np"
      ],
      "execution_count": 4,
      "outputs": []
    },
    {
      "cell_type": "markdown",
      "metadata": {
        "id": "67fjZcxD8tWX"
      },
      "source": [
        "Definimos las matrices de recompensas:"
      ]
    },
    {
      "cell_type": "code",
      "metadata": {
        "colab": {
          "base_uri": "https://localhost:8080/"
        },
        "id": "nU5fEXvb2B-m",
        "outputId": "cbdd2c15-7cc3-470b-a268-9cad02197142"
      },
      "source": [
        "A = np.array([[-8, 0], [-10, -1]]) # A es el jugador filas.\n",
        "B = np.array([[-8, -10], [0, -1]]) # B es el jugador columnas.\n",
        "juego1 = nash.Game(A,B)\n",
        "juego1"
      ],
      "execution_count": 5,
      "outputs": [
        {
          "output_type": "execute_result",
          "data": {
            "text/plain": [
              "Bi matrix game with payoff matrices:\n",
              "\n",
              "Row player:\n",
              "[[ -8   0]\n",
              " [-10  -1]]\n",
              "\n",
              "Column player:\n",
              "[[ -8 -10]\n",
              " [  0  -1]]"
            ]
          },
          "metadata": {},
          "execution_count": 5
        }
      ]
    },
    {
      "cell_type": "markdown",
      "metadata": {
        "id": "Rf-mr2AU8xHa"
      },
      "source": [
        "Encontramos las estrategias de Equilibrio:"
      ]
    },
    {
      "cell_type": "code",
      "metadata": {
        "colab": {
          "base_uri": "https://localhost:8080/"
        },
        "id": "iSX4Gayf2dnd",
        "outputId": "f3303735-38cd-4e3a-9f20-3da98498c76a"
      },
      "source": [
        "equilibrios = juego1.support_enumeration()\n",
        "for eq in equilibrios:\n",
        "    print(eq)"
      ],
      "execution_count": 6,
      "outputs": [
        {
          "output_type": "stream",
          "name": "stdout",
          "text": [
            "(array([1., 0.]), array([1., 0.]))\n"
          ]
        }
      ]
    },
    {
      "cell_type": "markdown",
      "metadata": {
        "id": "VxvFG9Xn-Mte"
      },
      "source": [
        "De manera similar, para un juego mas complejo con estrategias dominantes:"
      ]
    },
    {
      "cell_type": "code",
      "metadata": {
        "colab": {
          "base_uri": "https://localhost:8080/"
        },
        "id": "x7D5FL1e2nln",
        "outputId": "44a7acc5-ee58-4f9e-b8f3-08cfa0ee2203"
      },
      "source": [
        "A2 = np.array([[6, 4, 4, 3],\n",
        "               [5, 6, 0, 5],\n",
        "               [5, 3, 6, 4],\n",
        "               [2, 2, 3, 6]]) # A es el jugador filas.\n",
        "\n",
        "B2 = np.array([[3, 4, 1, 0],\n",
        "               [4, 3, 2, 1],\n",
        "               [0, 2, 1, 4],\n",
        "               [0, 3, 3, 1]]) # B es el jugador columnas.\n",
        "juego2 = nash.Game(A2, B2)\n",
        "juego2"
      ],
      "execution_count": 7,
      "outputs": [
        {
          "output_type": "execute_result",
          "data": {
            "text/plain": [
              "Bi matrix game with payoff matrices:\n",
              "\n",
              "Row player:\n",
              "[[6 4 4 3]\n",
              " [5 6 0 5]\n",
              " [5 3 6 4]\n",
              " [2 2 3 6]]\n",
              "\n",
              "Column player:\n",
              "[[3 4 1 0]\n",
              " [4 3 2 1]\n",
              " [0 2 1 4]\n",
              " [0 3 3 1]]"
            ]
          },
          "metadata": {},
          "execution_count": 7
        }
      ]
    },
    {
      "cell_type": "markdown",
      "metadata": {
        "id": "efdkbSf8-RK6"
      },
      "source": [
        "Las estrategias resultantes son aquellas que no son dominadas:"
      ]
    },
    {
      "cell_type": "code",
      "metadata": {
        "colab": {
          "base_uri": "https://localhost:8080/"
        },
        "id": "PTNTe5kH98Pj",
        "outputId": "59cd45bf-78cd-4d1d-80e8-114413b622ee"
      },
      "source": [
        "equilibrios = juego2.support_enumeration()\n",
        "for eq in equilibrios:\n",
        "    print(eq)"
      ],
      "execution_count": 8,
      "outputs": [
        {
          "output_type": "stream",
          "name": "stdout",
          "text": [
            "(array([0.5, 0.5, 0. , 0. ]), array([0.66666667, 0.33333333, 0.        , 0.        ]))\n"
          ]
        }
      ]
    },
    {
      "cell_type": "markdown",
      "metadata": {
        "id": "8uG0MTntCovf"
      },
      "source": [
        "# Minimax para 3 en Raya"
      ]
    },
    {
      "cell_type": "code",
      "metadata": {
        "id": "_apVivwXCqa_"
      },
      "source": [
        "import time\n",
        "\n",
        "class Juego:\n",
        "    def __init__(self):\n",
        "        self.iniciar_juego()\n",
        "\n",
        "    def iniciar_juego(self):\n",
        "        self.estado_actual = [['.','.','.'],\n",
        "                              ['.','.','.'],\n",
        "                              ['.','.','.']]\n",
        "\n",
        "        # X siempre juega primero:\n",
        "        self.turno_jugador = 'X'\n",
        "\n",
        "    def dibujar_tablero(self):\n",
        "        for i in range(0, 3):\n",
        "            for j in range(0, 3):\n",
        "                print('{}|'.format(self.estado_actual[i][j]), end=\" \")\n",
        "            print()\n",
        "        print()\n",
        "\n",
        "    def es_valido(self, px, py):\n",
        "      if px < 0 or px > 2 or py < 0 or py > 2:\n",
        "          return False\n",
        "      elif self.estado_actual[px][py] != '.':\n",
        "          return False\n",
        "      else:\n",
        "          return True\n",
        "\n",
        "    def es_fin(self):\n",
        "      # Victoria en vertical:\n",
        "      for i in range(0, 3):\n",
        "          if (self.estado_actual[0][i] != '.' and\n",
        "              self.estado_actual[0][i] == self.estado_actual[1][i] and\n",
        "              self.estado_actual[1][i] == self.estado_actual[2][i]):\n",
        "              return self.estado_actual[0][i]\n",
        "\n",
        "      # Victoria en Horizontal:\n",
        "      for i in range(0, 3):\n",
        "          if (self.estado_actual[i] == ['X', 'X', 'X']):\n",
        "              return 'X'\n",
        "          elif (self.estado_actual[i] == ['O', 'O', 'O']):\n",
        "              return 'O'\n",
        "\n",
        "      # Victoria diagonal principal:\n",
        "      if (self.estado_actual[0][0] != '.' and\n",
        "          self.estado_actual[0][0] == self.estado_actual[1][1] and\n",
        "          self.estado_actual[0][0] == self.estado_actual[2][2]):\n",
        "          return self.estado_actual[0][0]\n",
        "\n",
        "      # Victoria diagonal secundaria:\n",
        "      if (self.estado_actual[0][2] != '.' and\n",
        "          self.estado_actual[0][2] == self.estado_actual[1][1] and\n",
        "          self.estado_actual[0][2] == self.estado_actual[2][0]):\n",
        "          return self.estado_actual[0][2]\n",
        "\n",
        "      # Mesa llena:\n",
        "      for i in range(0, 3):\n",
        "          for j in range(0, 3):\n",
        "              # Si hay espacio, seguimos jugando:\n",
        "              if (self.estado_actual[i][j] == '.'):\n",
        "                  return None\n",
        "\n",
        "      # Empate, mesa llena sin victoria:\n",
        "      return '.'\n",
        "\n",
        "    # 'O' es max, en este caso la IA:\n",
        "    def max(self):\n",
        "\n",
        "        # Posibles valores para max:\n",
        "        # -1 - pierde\n",
        "        #  0 - empata\n",
        "        #  1 - gana\n",
        "\n",
        "        # Inicializamos el resultado a -2, peor que lo peor\n",
        "        maxv = -2\n",
        "\n",
        "        px = None\n",
        "        py = None\n",
        "\n",
        "        resultado = self.es_fin()\n",
        "\n",
        "        # Si el juego acaba, debemos devolver el resultado:\n",
        "        if resultado == 'X':\n",
        "            return (-1, 0, 0)\n",
        "        elif resultado == 'O':\n",
        "            return (1, 0, 0)\n",
        "        elif resultado == '.':\n",
        "            return (0, 0, 0)\n",
        "\n",
        "        for i in range(0, 3):\n",
        "            for j in range(0, 3):\n",
        "                if self.estado_actual[i][j] == '.':\n",
        "                    # Esto es una rama del juego:\n",
        "                    self.estado_actual[i][j] = 'O'\n",
        "                    (m, min_i, min_j) = self.min()\n",
        "                    # Fijamos maxv si es necesario:\n",
        "                    if m > maxv:\n",
        "                        maxv = m\n",
        "                        px = i\n",
        "                        py = j\n",
        "                    # Vaciamos el tablero\n",
        "                    self.estado_actual[i][j] = '.'\n",
        "        return (maxv, px, py)\n",
        "\n",
        "    # El jugador 'X' es min, un humano en este caso:\n",
        "    def min(self):\n",
        "\n",
        "        #Inicio igual que para max:\n",
        "        minv = 2\n",
        "\n",
        "        qx = None\n",
        "        qy = None\n",
        "\n",
        "        resultado = self.es_fin()\n",
        "\n",
        "        if resultado == 'X':\n",
        "            return (-1, 0, 0)\n",
        "        elif resultado == 'O':\n",
        "            return (1, 0, 0)\n",
        "        elif resultado == '.':\n",
        "            return (0, 0, 0)\n",
        "\n",
        "        for i in range(0, 3):\n",
        "            for j in range(0, 3):\n",
        "                if self.estado_actual[i][j] == '.':\n",
        "                    self.estado_actual[i][j] = 'X'\n",
        "                    (m, max_i, max_j) = self.max()\n",
        "                    if m < minv:\n",
        "                        minv = m\n",
        "                        qx = i\n",
        "                        qy = j\n",
        "                    self.estado_actual[i][j] = '.'\n",
        "\n",
        "        return (minv, qx, qy)\n",
        "\n",
        "    def jugar(self):\n",
        "      while True:\n",
        "          self.dibujar_tablero()\n",
        "          self.resultado = self.es_fin()\n",
        "\n",
        "          # Mostrar que el juego termino:\n",
        "          if self.resultado != None:\n",
        "              if self.resultado == 'X':\n",
        "                  print('El ganador es X!')\n",
        "              elif self.resultado == 'O':\n",
        "                  print('El ganador es O!')\n",
        "              elif self.resultado == '.':\n",
        "                  print(\"Empate!\")\n",
        "\n",
        "              self.iniciar_juego()\n",
        "              return\n",
        "\n",
        "          # If it's player's turn\n",
        "          if self.turno_jugador == 'X':\n",
        "\n",
        "              while True:\n",
        "\n",
        "                  inicio = time.time()\n",
        "                  (m, qx, qy) = self.min()\n",
        "                  fin = time.time()\n",
        "                  print('Evaluacion: {}s'.format(round(fin - inicio, 7)))\n",
        "                  print('Movimientos Recomendados: X = {}, Y = {}'.format(qx, qy))\n",
        "\n",
        "                  px = int(input('X coordenada: '))\n",
        "                  py = int(input('Y coordenada: '))\n",
        "\n",
        "                  (qx, qy) = (px, py)\n",
        "\n",
        "                  if self.es_valido(px, py):\n",
        "                      self.estado_actual[px][py] = 'X'\n",
        "                      self.turno_jugador = 'O'\n",
        "                      break\n",
        "                  else:\n",
        "                      print('Movimiento no valido, prueba otra vez.')\n",
        "\n",
        "          # Turno de la IA\n",
        "          else:\n",
        "              (m, px, py) = self.max()\n",
        "              self.estado_actual[px][py] = 'O'\n",
        "              self.turno_jugador = 'X'"
      ],
      "execution_count": 9,
      "outputs": []
    },
    {
      "cell_type": "code",
      "metadata": {
        "colab": {
          "base_uri": "https://localhost:8080/"
        },
        "id": "HMm8sCeDDDVi",
        "outputId": "9678d6f4-4a5b-4719-98fc-7521da7077ba"
      },
      "source": [
        "g = Juego()\n",
        "g.jugar()"
      ],
      "execution_count": 28,
      "outputs": [
        {
          "output_type": "stream",
          "name": "stdout",
          "text": [
            ".| .| .| \n",
            ".| .| .| \n",
            ".| .| .| \n",
            "\n",
            "Tiempo de evaluacion: 0.0912409s\n",
            "Movimiento recomendado: X = 0, Y = 0\n",
            "X coordenada: 0\n",
            "Y coordenada: 0\n",
            "X| .| .| \n",
            ".| .| .| \n",
            ".| .| .| \n",
            "\n",
            "X| .| .| \n",
            ".| O| .| \n",
            ".| .| .| \n",
            "\n",
            "Tiempo de evaluacion: 0.0034425s\n",
            "Movimiento recomendado: X = 0, Y = 1\n",
            "X coordenada: 0\n",
            "Y coordenada: 1\n",
            "X| X| .| \n",
            ".| O| .| \n",
            ".| .| .| \n",
            "\n",
            "X| X| O| \n",
            ".| O| .| \n",
            ".| .| .| \n",
            "\n",
            "Tiempo de evaluacion: 0.0005696s\n",
            "Movimiento recomendado: X = 2, Y = 0\n",
            "X coordenada: 2\n",
            "Y coordenada: 0\n",
            "X| X| O| \n",
            ".| O| .| \n",
            "X| .| .| \n",
            "\n",
            "X| X| O| \n",
            "O| O| .| \n",
            "X| .| .| \n",
            "\n",
            "Tiempo de evaluacion: 5.77e-05s\n",
            "Movimiento recomendado: X = 1, Y = 2\n",
            "X coordenada: 1\n",
            "Y coordenada: 2\n",
            "X| X| O| \n",
            "O| O| X| \n",
            "X| .| .| \n",
            "\n",
            "X| X| O| \n",
            "O| O| X| \n",
            "X| O| .| \n",
            "\n",
            "Tiempo de evaluacion: 1.36e-05s\n",
            "Movimiento recomendado: X = 2, Y = 2\n",
            "X coordenada: 2\n",
            "Y coordenada: 2\n",
            "X| X| O| \n",
            "O| O| X| \n",
            "X| O| X| \n",
            "\n",
            "Empate\n"
          ]
        }
      ]
    },
    {
      "cell_type": "markdown",
      "metadata": {
        "id": "4c2dgySdN68q"
      },
      "source": [
        "1# Ejercicio: ¿Puedes modificar las funciones min y max para podar las ramas innecesarias? ¿Que le pasa al tiempo de procesamiento de la busqueda de la IA?"
      ]
    },
    {
      "cell_type": "markdown",
      "metadata": {
        "id": "gkXqBCNgW--L"
      },
      "source": [
        "Modifica las funciones min, max y jugar con los ejemplos siguientes rellenando los espacios:"
      ]
    },
    {
      "cell_type": "code",
      "metadata": {
        "id": "TOB4zRutFHcd"
      },
      "source": [
        "def max_alfa_beta(self, ________, _____):\n",
        "        maxv = -2\n",
        "        px = ____\n",
        "        py = ____\n",
        "\n",
        "        resultado = _____\n",
        "\n",
        "        if resultado == _____:\n",
        "            return (-1, 0, 0)\n",
        "        elif resultado == 'O':\n",
        "            return (_______)\n",
        "        elif result == '.':\n",
        "            return (0, 0, 0)\n",
        "\n",
        "        for i in _____:\n",
        "            for ___ in range(0, 3):\n",
        "                if _________________ == '.':\n",
        "                    ________________ = 'O'\n",
        "                    (m, min_i, in_j) = self.min_alfa_beta(alfa, beta)\n",
        "                    if m > maxv:\n",
        "                        maxv = m\n",
        "                        px = i\n",
        "                        py = j\n",
        "                    ________________ = '.'\n",
        "\n",
        "\n",
        "                    if maxv >= ____:\n",
        "                        return (maxv, px, py)\n",
        "\n",
        "                    if ____ > alfa:\n",
        "                        alfa = maxv\n",
        "\n",
        "        return (maxv, px, py)"
      ],
      "execution_count": null,
      "outputs": []
    },
    {
      "cell_type": "code",
      "metadata": {
        "id": "RDZcv29POvK-"
      },
      "source": [
        "def min_alfa_beta(self, alfa, beta):\n",
        "\n",
        "        minv = ____\n",
        "\n",
        "        qx = None\n",
        "        qy = None\n",
        "\n",
        "        resultado = _______\n",
        "\n",
        "        if resultado == 'X':\n",
        "            return (-1, 0, 0)\n",
        "        elif resultado == 'O':\n",
        "            return (1, 0, 0)\n",
        "        elif resultado == '.':\n",
        "            return (0, 0, 0)\n",
        "\n",
        "        for ____ in ______:\n",
        "            for ____ in ______:\n",
        "                if self.estado_actual[i][j] == _____:\n",
        "                    self.estado_actual[i][j] = _____\n",
        "                    (m, max_i, max_j) = self.max_alfa_beta(alfa, beta)\n",
        "                    if m < _____:\n",
        "                        minv = ____\n",
        "                        qx = ____\n",
        "                        qy = j\n",
        "                    self.estado_actual[i][j] = '.'\n",
        "\n",
        "                    if minv <= alpha:\n",
        "                        return _____\n",
        "\n",
        "                    if minv < beta:\n",
        "                        beta = ____\n",
        "\n",
        "        return (____, qx, qy)"
      ],
      "execution_count": null,
      "outputs": []
    },
    {
      "cell_type": "code",
      "metadata": {
        "id": "hajLHAjPR032"
      },
      "source": [
        "  def jugar_alfa_beta(self):\n",
        "     while True:\n",
        "        self._____\n",
        "        self.resultado = ______\n",
        "\n",
        "        if self.resultado != None:\n",
        "            if self.resultado == 'X':\n",
        "                print('Gana X!')\n",
        "            elif self.resultado == 'O':\n",
        "                print('Gana O!')\n",
        "            elif self.resultado == '.':\n",
        "                print(\"Empate\")\n",
        "\n",
        "\n",
        "            self._____\n",
        "            return\n",
        "\n",
        "        if self.____ == 'X':\n",
        "\n",
        "            while True:\n",
        "                inicio = time.time()\n",
        "                (m, qx, qy) = self.min_alfa_beta(-2, 2)\n",
        "                fin = time.time()\n",
        "                print('Tiempo de evaluacion: {}s'.format(round(____ - ____, 7)))\n",
        "                print('Movimiento recomendado: X = {}, Y = {}'.format(__, __))\n",
        "\n",
        "                px = int(input('X coordenada: '))\n",
        "                py = int(input('Y coordenada: '))\n",
        "\n",
        "                qx = __\n",
        "                qy = __\n",
        "\n",
        "                if self.____(px, py):\n",
        "                    self.____[px][py] = 'X'\n",
        "                    self.____ = 'O'\n",
        "                    break\n",
        "                else:\n",
        "                    print('Movimiento no valido. Prueba con otro movimiento.')\n",
        "\n",
        "        else:\n",
        "            (m, px, py) = self.max_alfa_beta(-2, 2)\n",
        "            self._____[px][py] = 'O'\n",
        "            self._____ = 'X'"
      ],
      "execution_count": null,
      "outputs": []
    },
    {
      "cell_type": "code",
      "metadata": {
        "id": "bfPxUStCEKtv"
      },
      "source": [
        "import time\n",
        "\n",
        "class Juego:\n",
        "    def __init__(self):\n",
        "        self.iniciar_juego()\n",
        "\n",
        "    def iniciar_juego(self):\n",
        "        self.estado_actual = [['.','.','.'],\n",
        "                              ['.','.','.'],\n",
        "                              ['.','.','.']]\n",
        "\n",
        "        # X siempre juega primero:\n",
        "        self.turno_jugador = 'X'\n",
        "\n",
        "    def dibujar_tablero(self):\n",
        "        for i in range(0, 3):\n",
        "            for j in range(0, 3):\n",
        "                print('{}|'.format(self.estado_actual[i][j]), end=\" \")\n",
        "            print()\n",
        "        print()\n",
        "\n",
        "    def es_valido(self, px, py):\n",
        "      if px < 0 or px > 2 or py < 0 or py > 2:\n",
        "          return False\n",
        "      elif self.estado_actual[px][py] != '.':\n",
        "          return False\n",
        "      else:\n",
        "          return True\n",
        "\n",
        "    def es_fin(self):\n",
        "      # Victoria en vertical:\n",
        "      for i in range(0, 3):\n",
        "          if (self.estado_actual[0][i] != '.' and\n",
        "              self.estado_actual[0][i] == self.estado_actual[1][i] and\n",
        "              self.estado_actual[1][i] == self.estado_actual[2][i]):\n",
        "              return self.estado_actual[0][i]\n",
        "\n",
        "      # Victoria en Horizontal:\n",
        "      for i in range(0, 3):\n",
        "          if (self.estado_actual[i] == ['X', 'X', 'X']):\n",
        "              return 'X'\n",
        "          elif (self.estado_actual[i] == ['O', 'O', 'O']):\n",
        "              return 'O'\n",
        "\n",
        "      # Victoria diagonal principal:\n",
        "      if (self.estado_actual[0][0] != '.' and\n",
        "          self.estado_actual[0][0] == self.estado_actual[1][1] and\n",
        "          self.estado_actual[0][0] == self.estado_actual[2][2]):\n",
        "          return self.estado_actual[0][0]\n",
        "\n",
        "      # Victoria diagonal secundaria:\n",
        "      if (self.estado_actual[0][2] != '.' and\n",
        "          self.estado_actual[0][2] == self.estado_actual[1][1] and\n",
        "          self.estado_actual[0][2] == self.estado_actual[2][0]):\n",
        "          return self.estado_actual[0][2]\n",
        "\n",
        "      # Mesa llena:\n",
        "      for i in range(0, 3):\n",
        "          for j in range(0, 3):\n",
        "              # Si hay espacio, seguimos jugando:\n",
        "              if (self.estado_actual[i][j] == '.'):\n",
        "                  return None\n",
        "\n",
        "      # Empate, mesa llena sin victoria:\n",
        "      return '.'\n",
        "\n",
        "    # 'O' es max, en este caso la IA:\n",
        "    def max(self, alpha, beta):\n",
        "        maxv = -2\n",
        "        px = None\n",
        "        py = None\n",
        "\n",
        "        resultado = self.es_fin()\n",
        "\n",
        "        if resultado == 'X':\n",
        "            return (-1, 0, 0)\n",
        "        elif resultado == 'O':\n",
        "            return (1, 0, 0)\n",
        "        elif resultado == '.':\n",
        "            return (0, 0, 0)\n",
        "\n",
        "        for i in range(0, 3):\n",
        "            for j in range(0, 3):\n",
        "                if self.estado_actual[i][j] == '.':\n",
        "                    self.estado_actual[i][j] = 'O'\n",
        "                    (m, _, _) = self.min(alpha, beta)\n",
        "                    if m > maxv:\n",
        "                        maxv = m\n",
        "                        px = i\n",
        "                        py = j\n",
        "                    self.estado_actual[i][j] = '.'\n",
        "\n",
        "\n",
        "                    if maxv >= beta:\n",
        "                        return (maxv, px, py)\n",
        "\n",
        "                    if maxv > alpha:\n",
        "                        alpha = maxv\n",
        "\n",
        "        return (maxv, px, py)\n",
        "\n",
        "    # El jugador 'X' es min, un humano en este caso:\n",
        "    def min(self, alpha, beta):\n",
        "        minv = 2\n",
        "        qx = None\n",
        "        qy = None\n",
        "\n",
        "        resultado = self.es_fin()\n",
        "\n",
        "        if resultado == 'X':\n",
        "            return (-1, 0, 0)\n",
        "        elif resultado == 'O':\n",
        "            return (1, 0, 0)\n",
        "        elif resultado == '.':\n",
        "            return (0, 0, 0)\n",
        "\n",
        "        for i in range(0, 3):\n",
        "            for j in range(0, 3):\n",
        "                if self.estado_actual[i][j] == '.':\n",
        "                    self.estado_actual[i][j] = 'X'\n",
        "                    (m, _, _) = self.max(alpha, beta)\n",
        "                    if m < minv:\n",
        "                        minv = m\n",
        "                        qx = i\n",
        "                        qy = j\n",
        "                    self.estado_actual[i][j] = '.'\n",
        "\n",
        "                    if minv <= alpha:\n",
        "                        return (minv, qx, qy)\n",
        "\n",
        "                    if minv < beta:\n",
        "                        beta = minv\n",
        "\n",
        "        return (minv, qx, qy)\n",
        "\n",
        "    def jugar(self):\n",
        "     while True:\n",
        "        self.dibujar_tablero()\n",
        "        self.resultado = self.es_fin()\n",
        "\n",
        "        if self.resultado != None:\n",
        "            if self.resultado == 'X':\n",
        "                print('Gana X!')\n",
        "            elif self.resultado == 'O':\n",
        "                print('Gana O!')\n",
        "            elif self.resultado == '.':\n",
        "                print(\"Empate\")\n",
        "\n",
        "\n",
        "            self.iniciar_juego()\n",
        "            return\n",
        "\n",
        "        if self.turno_jugador == 'X':\n",
        "\n",
        "            while True:\n",
        "                inicio = time.time()\n",
        "                (m, qx, qy) = self.min(-2, 2)\n",
        "                fin = time.time()\n",
        "                print('Tiempo de evaluacion: {}s'.format(round(fin - inicio, 7)))\n",
        "                print('Movimiento recomendado: X = {}, Y = {}'.format(qx, qy))\n",
        "\n",
        "                px = int(input('X coordenada: '))\n",
        "                py = int(input('Y coordenada: '))\n",
        "\n",
        "                qx = px\n",
        "                qy = py\n",
        "\n",
        "                if self.es_valido(px, py):\n",
        "                    self.estado_actual[px][py] = 'X'\n",
        "                    self.turno_jugador = 'O'\n",
        "                    break\n",
        "                else:\n",
        "                    print('Movimiento no valido. Prueba con otro movimiento.')\n",
        "\n",
        "        else:\n",
        "            (m, px, py) = self.max(-2, 2)\n",
        "            self.estado_actual[px][py] = 'O'\n",
        "            self.turno_jugador = 'X'"
      ],
      "execution_count": 29,
      "outputs": []
    },
    {
      "cell_type": "code",
      "source": [
        "g = Juego()\n",
        "g.jugar()"
      ],
      "metadata": {
        "id": "37gKiP91Ftko",
        "outputId": "e91f4e38-e513-4539-bf2c-50256e63c2bb",
        "colab": {
          "base_uri": "https://localhost:8080/"
        }
      },
      "execution_count": 30,
      "outputs": [
        {
          "output_type": "stream",
          "name": "stdout",
          "text": [
            ".| .| .| \n",
            ".| .| .| \n",
            ".| .| .| \n",
            "\n",
            "Tiempo de evaluacion: 0.085947s\n",
            "Movimiento recomendado: X = 0, Y = 0\n",
            "X coordenada: 0\n",
            "Y coordenada: 0\n",
            "X| .| .| \n",
            ".| .| .| \n",
            ".| .| .| \n",
            "\n",
            "X| .| .| \n",
            ".| O| .| \n",
            ".| .| .| \n",
            "\n",
            "Tiempo de evaluacion: 0.0035646s\n",
            "Movimiento recomendado: X = 0, Y = 1\n",
            "X coordenada: 0\n",
            "Y coordenada: 1\n",
            "X| X| .| \n",
            ".| O| .| \n",
            ".| .| .| \n",
            "\n",
            "X| X| O| \n",
            ".| O| .| \n",
            ".| .| .| \n",
            "\n",
            "Tiempo de evaluacion: 0.0004289s\n",
            "Movimiento recomendado: X = 2, Y = 0\n",
            "X coordenada: 2\n",
            "Y coordenada: 0\n",
            "X| X| O| \n",
            ".| O| .| \n",
            "X| .| .| \n",
            "\n",
            "X| X| O| \n",
            "O| O| .| \n",
            "X| .| .| \n",
            "\n",
            "Tiempo de evaluacion: 0.0001085s\n",
            "Movimiento recomendado: X = 1, Y = 2\n",
            "X coordenada: 1\n",
            "Y coordenada: 2\n",
            "X| X| O| \n",
            "O| O| X| \n",
            "X| .| .| \n",
            "\n",
            "X| X| O| \n",
            "O| O| X| \n",
            "X| O| .| \n",
            "\n",
            "Tiempo de evaluacion: 2.41e-05s\n",
            "Movimiento recomendado: X = 2, Y = 2\n",
            "X coordenada: 2\n",
            "Y coordenada: 2\n",
            "X| X| O| \n",
            "O| O| X| \n",
            "X| O| X| \n",
            "\n",
            "Empate\n"
          ]
        }
      ]
    },
    {
      "cell_type": "code",
      "source": [],
      "metadata": {
        "id": "jHy2HJTCHj5N"
      },
      "execution_count": null,
      "outputs": []
    }
  ]
}